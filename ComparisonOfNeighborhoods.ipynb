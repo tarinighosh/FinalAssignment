{
 "cells": [
  {
   "cell_type": "markdown",
   "metadata": {},
   "source": [
    "# Problem Overview:\n",
    "The assignment problem can be broadly described in the following points below. \n",
    "1. Different cities have specific neighborhoods, which have specific characteristics/facilities/infrastructure, in terms of restaurants, hospitals, parks, etc. So, the question that remains to be answered is, given two cities and their neighborhood profiles, can we identify neighborhoods across the two cities that are similar in terms of the above characteristics? Identifying this will be important for individuals who wish to move from one city to the other, who in turn, would be looking for similar neighborhoods to settle in. For people visiting one city from the one from the other, who are specifically looking for neighborhoods similar to the ones that they like in their home town, such an analysis would provide the clues.\n",
    "2.  Can we identify the exact differences between the neighborhoods, in terms of which characteristics are specifically high or lower in numbers/frequencies in one group of neighborhoods as compared to the others? This will be important as it will help individuals to look for neighborhood based on their choices in terms of hospitals, restaurants, location, etc. This will also help people who are willing to start a business that targets specific neighborhoods or neighborhoods that lack specific infra in which the individual is interested to start a business.\n",
    "\n",
    "# The data that will be used are described as follows.\n",
    "1. We will be using neighborhood data from three different cities, namely New York and Toronto for which we already have the neighborhood data along with postal codes. We can also get the neighborhood from a geographically far city like Singapore available at onemap.SG. Once, we have the neighborhood, we can get the latitude and longitude data.\n",
    "2. We can then use the FourSquare API to get the neighborhood details/venues by categories. For each city, the venue-neighborhood dataframes that are thus obtained can be merged with an additional column containing city names.\n",
    "3. Multivariate analysis, like Principal Component analysis, can then be performed to identify how similar are the three cities in terms of their neighborhood and if we can get specific inter-city clusters of neighborhoods.\n",
    "4. We can then group neighborhoods based on the venue profiles.\n",
    "5. Once and if we get clusters, we can identify neighborhoods in each cluster, as well as what each cluster lacks or has an over-representation of."
   ]
  },
  {
   "cell_type": "markdown",
   "metadata": {},
   "source": []
  }
 ],
 "metadata": {
  "kernelspec": {
   "display_name": "Python 3",
   "language": "python",
   "name": "python3"
  },
  "language_info": {
   "codemirror_mode": {
    "name": "ipython",
    "version": 3
   },
   "file_extension": ".py",
   "mimetype": "text/x-python",
   "name": "python",
   "nbconvert_exporter": "python",
   "pygments_lexer": "ipython3",
   "version": "3.6.8"
  }
 },
 "nbformat": 4,
 "nbformat_minor": 2
}
